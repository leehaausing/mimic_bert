{
  "nbformat": 4,
  "nbformat_minor": 0,
  "metadata": {
    "colab": {
      "name": "Process_sentence_with_word_embedding.ipynb",
      "provenance": []
    },
    "kernelspec": {
      "name": "python3",
      "display_name": "Python 3"
    }
  },
  "cells": [
    {
      "cell_type": "code",
      "metadata": {
        "id": "YXN-141D2D8Z"
      },
      "source": [
        "import numpy as np\n",
        "import ..."
      ],
      "execution_count": null,
      "outputs": []
    },
    {
      "cell_type": "code",
      "metadata": {
        "id": "LhfLVchx2pnE"
      },
      "source": [
        "path = \"\""
      ],
      "execution_count": 1,
      "outputs": []
    },
    {
      "cell_type": "code",
      "metadata": {
        "id": "psJGdv9k2jNy"
      },
      "source": [
        "# load word embedding matrix \n",
        "word_embeddings =  np.loadtxt(path + \"word_embedding_matrix.txt\")\n",
        "# load dictionary of mapping word to index \n",
        "with open(path+\"word_to_idx.json\",\"r\") as json_file:\n",
        "    word_to_idx = json.load(json_file)"
      ],
      "execution_count": null,
      "outputs": []
    },
    {
      "cell_type": "code",
      "metadata": {
        "id": "PwHFDu0C2sYi"
      },
      "source": [
        "def use_embeddings_fasttext(model, word_embeddings):\n",
        "    emb_tensor = torch.from_numpy(word_embeddings)\n",
        "    size = emb_tensor.size()\n",
        "    emb_class = nn.Embedding(size[0], size[1],padding_idx=0)\n",
        "    emb_class.weight = emb_tensor\n",
        "    model.embeddings.word_embeddings = emb_class\n",
        "\n",
        "    return model"
      ],
      "execution_count": null,
      "outputs": []
    },
    {
      "cell_type": "code",
      "metadata": {
        "id": "PP8G3G3A7Li6"
      },
      "source": [
        "def sentence_to_idx(sentence):\n",
        "  words = sentence.split()\n",
        "  idx_list = []\n",
        "  for word in words:\n",
        "    if word not in word_to_idx:\n",
        "      idx_list.append(word_to_idx['[unk]'])\n",
        "    else:\n",
        "      idx_list.append(word_to_idx[word])\n",
        "  \n",
        "  return idx_list"
      ],
      "execution_count": null,
      "outputs": []
    }
  ]
}