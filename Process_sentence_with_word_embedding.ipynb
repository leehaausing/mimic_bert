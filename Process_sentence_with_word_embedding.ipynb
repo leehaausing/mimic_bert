{
 "cells": [
  {
   "cell_type": "code",
   "execution_count": null,
   "metadata": {
    "id": "YXN-141D2D8Z"
   },
   "outputs": [],
   "source": [
    "import numpy as np\n",
    "import ..."
   ]
  },
  {
   "cell_type": "code",
   "execution_count": 1,
   "metadata": {
    "id": "LhfLVchx2pnE"
   },
   "outputs": [],
   "source": [
    "path = \"\""
   ]
  },
  {
   "cell_type": "code",
   "execution_count": null,
   "metadata": {
    "id": "psJGdv9k2jNy"
   },
   "outputs": [],
   "source": [
    "# load word embedding matrix \n",
    "word_embeddings =  np.loadtxt(path + \"word_embedding_matrix.txt\")\n",
    "# load dictionary of mapping word to index \n",
    "with open(path+\"word_to_idx.json\",\"r\") as json_file:\n",
    "    word_to_idx = json.load(json_file)"
   ]
  },
  {
   "cell_type": "code",
   "execution_count": null,
   "metadata": {
    "id": "PwHFDu0C2sYi"
   },
   "outputs": [],
   "source": [
    "def use_embeddings_fasttext(model, word_embeddings):\n",
    "    emb_tensor = torch.from_numpy(word_embeddings)\n",
    "    size = emb_tensor.size()\n",
    "    emb_class = nn.Embedding(size[0], size[1],padding_idx=0)\n",
    "    emb_class.weight = emb_tensor\n",
    "    model.embeddings.word_embeddings = emb_class\n",
    "\n",
    "    return model"
   ]
  },
  {
   "cell_type": "code",
   "execution_count": null,
   "metadata": {
    "id": "PP8G3G3A7Li6"
   },
   "outputs": [],
   "source": [
    "def sentence_to_idx(sentence):\n",
    "  words = sentence.split()\n",
    "  idx_list = []\n",
    "  for word in words:\n",
    "    if word not in word_to_idx:\n",
    "      idx_list.append(word_to_idx['[unk]'])\n",
    "    else:\n",
    "      idx_list.append(word_to_idx[word])\n",
    "  \n",
    "  return idx_list"
   ]
  }
 ],
 "metadata": {
  "colab": {
   "name": "Process_sentence_with_word_embedding.ipynb",
   "provenance": []
  },
  "kernelspec": {
   "display_name": "Python 3",
   "language": "python",
   "name": "python3"
  },
  "language_info": {
   "codemirror_mode": {
    "name": "ipython",
    "version": 3
   },
   "file_extension": ".py",
   "mimetype": "text/x-python",
   "name": "python",
   "nbconvert_exporter": "python",
   "pygments_lexer": "ipython3",
   "version": "3.8.3"
  }
 },
 "nbformat": 4,
 "nbformat_minor": 4
}
